{
 "cells": [
  {
   "cell_type": "code",
   "execution_count": 1,
   "id": "51b57ed7",
   "metadata": {},
   "outputs": [],
   "source": [
    "import pandas as pd\n",
    "import numpy as np\n",
    "from pandas.api.types import CategoricalDtype\n",
    "import matplotlib.pyplot as plt\n",
    "import seaborn as sns"
   ]
  },
  {
   "cell_type": "code",
   "execution_count": 2,
   "id": "77aa4cb4",
   "metadata": {},
   "outputs": [],
   "source": [
    "from sklearn.cross_decomposition import CCA"
   ]
  },
  {
   "cell_type": "code",
   "execution_count": 3,
   "id": "0a70241c",
   "metadata": {},
   "outputs": [],
   "source": [
    "from sklearn.preprocessing import StandardScaler"
   ]
  },
  {
   "cell_type": "code",
   "execution_count": 10,
   "id": "1c92c1cc",
   "metadata": {},
   "outputs": [],
   "source": [
    "data = pd.read_excel(\"data_reduce_filled.xlsx\")"
   ]
  },
  {
   "cell_type": "code",
   "execution_count": 11,
   "id": "890b168e",
   "metadata": {},
   "outputs": [],
   "source": [
    "category_values = ['H', 'UM', 'LM', 'L']\n",
    "\n",
    "category_order = CategoricalDtype(category_values, ordered=True)\n",
    "\n",
    "data.loc[:,'Income Group'] = data.loc[:,'Income Group'].astype(category_order)"
   ]
  },
  {
   "cell_type": "code",
   "execution_count": 12,
   "id": "83f64f0b",
   "metadata": {},
   "outputs": [
    {
     "data": {
      "text/plain": [
       "['L', 'UM', 'LM', 'H']\n",
       "Categories (4, object): ['H' < 'UM' < 'LM' < 'L']"
      ]
     },
     "execution_count": 12,
     "metadata": {},
     "output_type": "execute_result"
    }
   ],
   "source": [
    "data['Income Group'].unique()"
   ]
  },
  {
   "cell_type": "code",
   "execution_count": 13,
   "id": "fa8bbd90",
   "metadata": {},
   "outputs": [],
   "source": [
    "scaler = StandardScaler()"
   ]
  },
  {
   "cell_type": "code",
   "execution_count": 14,
   "id": "8826f0b2",
   "metadata": {},
   "outputs": [],
   "source": [
    "# variables for cca\n",
    "\n",
    "pollution_vars = [\n",
    "    'Access to clean fuels and technologies for cooking (% of population) [EG.CFT.ACCS.ZS]',\n",
    "    'Access to electricity (% of population) [EG.ELC.ACCS.ZS]',\n",
    "    'CO2 emissions (kg per 2017 PPP $ of GDP) [EN.ATM.CO2E.PP.GD.KD]',\n",
    "    'Methane emissions (kt of CO2 equivalent) [EN.ATM.METH.KT.CE]',\n",
    "    'Nitrous oxide emissions (thousand metric tons of CO2 equivalent) [EN.ATM.NOXE.KT.CE]',\n",
    "    'Energy intensity level of primary energy (MJ/$2017 PPP GDP) [EG.EGY.PRIM.PP.KD]',\n",
    "    'Carbon intensity of electricity (gCO2/kWh)'\n",
    "]\n",
    "\n",
    "economics_vars = [\n",
    "    'Age dependency ratio, old (% of working-age population) [SP.POP.DPND.OL]',\n",
    "    'Exports of goods and services (current US$) [NE.EXP.GNFS.CD]',\n",
    "    'Imports of goods and services (current US$) [NE.IMP.GNFS.CD]',\n",
    "    'GDP, PPP (constant 2017 international $) [NY.GDP.MKTP.PP.KD]',\n",
    "    'GDP growth (annual %) [NY.GDP.MKTP.KD.ZG]',\n",
    "    'Industry (including construction), value added (% of GDP) [NV.IND.TOTL.ZS]',\n",
    "    'Population, total [SP.POP.TOTL]'\n",
    "]"
   ]
  },
  {
   "cell_type": "code",
   "execution_count": 20,
   "id": "1ad260b5",
   "metadata": {},
   "outputs": [],
   "source": [
    "# Polllution variables\n",
    "\n",
    "pollution = [\n",
    "    'Access to clean fuels and technologies for cooking (% of population) [EG.CFT.ACCS.ZS]',\n",
    "    'Access to clean fuels and technologies for cooking, rural (% of rural population) [EG.CFT.ACCS.RU.ZS]',\n",
    "    'Access to clean fuels and technologies for cooking, urban (% of urban population) [EG.CFT.ACCS.UR.ZS]',\n",
    "\n",
    "    'Access to electricity (% of population) [EG.ELC.ACCS.ZS]',\n",
    "    'Access to electricity, rural (% of rural population) [EG.ELC.ACCS.RU.ZS]',\n",
    "    'Access to electricity, urban (% of urban population) [EG.ELC.ACCS.UR.ZS]',\n",
    "\n",
    "    'Renewable energy consumption (% of total final energy consumption) [EG.FEC.RNEW.ZS]',\n",
    "\n",
    "    'Total greenhouse gas emissions (kt of CO2 equivalent) [EN.ATM.GHGT.KT.CE]',\n",
    "\n",
    "    'CO2 emissions (kg per 2017 PPP $ of GDP) [EN.ATM.CO2E.PP.GD.KD]',\n",
    "\n",
    "    'Agricultural methane emissions (thousand metric tons of CO2 equivalent) [EN.ATM.METH.AG.KT.CE]',\n",
    "    'Agricultural nitrous oxide emissions (thousand metric tons of CO2 equivalent) [EN.ATM.NOXE.AG.KT.CE]',\n",
    "\n",
    "    'Methane emissions (kt of CO2 equivalent) [EN.ATM.METH.KT.CE]',\n",
    "    'Nitrous oxide emissions (thousand metric tons of CO2 equivalent) [EN.ATM.NOXE.KT.CE]',\n",
    "\n",
    "    'Energy intensity level of primary energy (MJ/$2017 PPP GDP) [EG.EGY.PRIM.PP.KD]',\n",
    "    'Carbon intensity of electricity (gCO2/kWh)'\n",
    "]\n",
    "\n",
    "# Economic variables\n",
    "economics = [\n",
    "    'Age dependency ratio, old (% of working-age population) [SP.POP.DPND.OL]',\n",
    "    'Employers, total (% of total employment) (modeled ILO estimate) [SL.EMP.MPYR.ZS]',\n",
    "    'Exports of goods and services (current US$) [NE.EXP.GNFS.CD]',\n",
    "    'Imports of goods and services (current US$) [NE.IMP.GNFS.CD]',\n",
    "    'Final consumption expenditure (current US$) [NE.CON.TOTL.CD]',\n",
    "    'GDP, PPP (constant 2017 international $) [NY.GDP.MKTP.PP.KD]',\n",
    "    'GDP growth (annual %) [NY.GDP.MKTP.KD.ZG]',\n",
    "    'GNI, PPP (current international $) [NY.GNP.MKTP.PP.CD]',\n",
    "    'Industry (including construction), value added (% of GDP) [NV.IND.TOTL.ZS]',\n",
    "    'Population, total [SP.POP.TOTL]',\n",
    "    'Wage and salaried workers, total (% of total employment) (modeled ILO estimate) [SL.EMP.WORK.ZS]'\n",
    "]"
   ]
  },
  {
   "cell_type": "code",
   "execution_count": 23,
   "id": "fa54b98a",
   "metadata": {},
   "outputs": [],
   "source": [
    "X = data[pollution_vars]\n",
    "Y = data[economics_vars]\n",
    "X_scaled = scaler.fit_transform(X)\n",
    "Y_scaled = scaler.fit_transform(Y)"
   ]
  },
  {
   "cell_type": "code",
   "execution_count": 24,
   "id": "25503ef8",
   "metadata": {
    "scrolled": false
   },
   "outputs": [
    {
     "data": {
      "image/png": "[encoded data removed]",
      "text/plain": [
       "<Figure size 640x480 with 1 Axes>"
      ]
     },
     "metadata": {},
     "output_type": "display_data"
    }
   ],
   "source": [
    "import pandas as pd\n",
    "from sklearn.cross_decomposition import CCA\n",
    "import matplotlib.pyplot as plt\n",
    "\n",
    "# Separate the Income Group variable\n",
    "income_group = data['Income Group']\n",
    "\n",
    "# Fit the CCA model\n",
    "cca = CCA(n_components=2)\n",
    "cca.fit(X_scaled, Y_scaled)\n",
    "\n",
    "# Get the canonical correlations and canonical weights\n",
    "#ccorrs = cca.correlations_\n",
    "cweights_x = cca.x_weights_\n",
    "cweights_y = cca.y_weights_\n",
    "\n",
    "# Project the data onto the canonical space\n",
    "x_c, y_c = cca.transform(X_scaled, Y_scaled)\n",
    "\n",
    "# Visualize the results\n",
    "plt.scatter(x_c[:, 0], x_c[:, 1], c=income_group.map({'L': 'red', 'UM': 'blue', 'H': 'green', 'LM': 'orange'}))\n",
    "plt.scatter(y_c[:, 0], y_c[:, 1], c=income_group.map({'L': 'red', 'UM': 'blue', 'H': 'green', 'LM': 'orange'}))\n",
    "plt.xlabel('Pollution')\n",
    "plt.ylabel('Economics')\n",
    "plt.show()\n",
    "#a scatter plot of the data projected onto the two canonical components, with the points colored according to the Income Group variable.\n",
    "\n"
   ]
  },
  {
   "cell_type": "code",
   "execution_count": null,
   "id": "3a8ee3d7",
   "metadata": {},
   "outputs": [],
   "source": []
  }
 ],
 "metadata": {
  "kernelspec": {
   "display_name": "Python 3 (ipykernel)",
   "language": "python",
   "name": "python3"
  },
  "language_info": {
   "codemirror_mode": {
    "name": "ipython",
    "version": 3
   },
   "file_extension": ".py",
   "mimetype": "text/x-python",
   "name": "python",
   "nbconvert_exporter": "python",
   "pygments_lexer": "ipython3",
   "version": "3.9.13"
  }
 },
 "nbformat": 4,
 "nbformat_minor": 5
}
